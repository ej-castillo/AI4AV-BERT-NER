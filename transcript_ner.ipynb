{
 "cells": [
  {
   "cell_type": "code",
   "execution_count": 1,
   "metadata": {},
   "outputs": [],
   "source": [
    "from bert import Ner\n",
    "model = Ner(\"out_ner/\")"
   ]
  },
  {
   "cell_type": "code",
   "execution_count": 2,
   "metadata": {},
   "outputs": [
    {
     "data": {
      "text/html": [
       "<div>\n",
       "<style scoped>\n",
       "    .dataframe tbody tr th:only-of-type {\n",
       "        vertical-align: middle;\n",
       "    }\n",
       "\n",
       "    .dataframe tbody tr th {\n",
       "        vertical-align: top;\n",
       "    }\n",
       "\n",
       "    .dataframe thead th {\n",
       "        text-align: right;\n",
       "    }\n",
       "</style>\n",
       "<table border=\"1\" class=\"dataframe\">\n",
       "  <thead>\n",
       "    <tr style=\"text-align: right;\">\n",
       "      <th></th>\n",
       "      <th>Interview ID</th>\n",
       "      <th>human_transcript</th>\n",
       "    </tr>\n",
       "  </thead>\n",
       "  <tbody>\n",
       "    <tr>\n",
       "      <th>9</th>\n",
       "      <td>MBY005779</td>\n",
       "      <td>LOUISA SANCHEZ: [00:00:00] My name is Luisa Sa...</td>\n",
       "    </tr>\n",
       "    <tr>\n",
       "      <th>16</th>\n",
       "      <td>MBY005843</td>\n",
       "      <td>Cynthia Lee Anschutz Stenicka:\\t[00:00:00] My ...</td>\n",
       "    </tr>\n",
       "    <tr>\n",
       "      <th>17</th>\n",
       "      <td>MBY005844</td>\n",
       "      <td>Denise Ricks: [00:00:00] Okay. I'm Denise Rick...</td>\n",
       "    </tr>\n",
       "    <tr>\n",
       "      <th>22</th>\n",
       "      <td>MBY005884</td>\n",
       "      <td>Heidi Christine Johnson: [00:00:00] Hi. My nam...</td>\n",
       "    </tr>\n",
       "    <tr>\n",
       "      <th>23</th>\n",
       "      <td>MBY005906</td>\n",
       "      <td>Sarah Culver: [00:00:00] Hi. Good morning. My ...</td>\n",
       "    </tr>\n",
       "  </tbody>\n",
       "</table>\n",
       "</div>"
      ],
      "text/plain": [
       "   Interview ID                                   human_transcript\n",
       "9     MBY005779  LOUISA SANCHEZ: [00:00:00] My name is Luisa Sa...\n",
       "16    MBY005843  Cynthia Lee Anschutz Stenicka:\\t[00:00:00] My ...\n",
       "17    MBY005844  Denise Ricks: [00:00:00] Okay. I'm Denise Rick...\n",
       "22    MBY005884  Heidi Christine Johnson: [00:00:00] Hi. My nam...\n",
       "23    MBY005906  Sarah Culver: [00:00:00] Hi. Good morning. My ..."
      ]
     },
     "execution_count": 2,
     "metadata": {},
     "output_type": "execute_result"
    }
   ],
   "source": [
    "import pandas as pd\n",
    "transcripts = pd.read_csv(\"./data/transcript.csv\")\n",
    "transcripts = transcripts[[\"Interview ID\", \"human_transcript\"]]\n",
    "transcripts = transcripts.dropna()\n",
    "transcripts.head()"
   ]
  },
  {
   "cell_type": "code",
   "execution_count": 3,
   "metadata": {},
   "outputs": [],
   "source": [
    "from nltk import tokenize\n",
    "values = []\n",
    "for index, row in transcripts.iterrows():\n",
    "    sentences = tokenize.sent_tokenize(row['human_transcript'])\n",
    "    start_idx = 0\n",
    "    for sentence in sentences:\n",
    "        predictions = model.predict(sentence, start_idx)\n",
    "        start_idx += len(sentence)\n",
    "        if  predictions:\n",
    "            for prediction in predictions:\n",
    "                values.append([row['Interview ID'], prediction[2], prediction[0], prediction[1]])"
   ]
  },
  {
   "cell_type": "code",
   "execution_count": 4,
   "metadata": {},
   "outputs": [
    {
     "data": {
      "text/html": [
       "<div>\n",
       "<style scoped>\n",
       "    .dataframe tbody tr th:only-of-type {\n",
       "        vertical-align: middle;\n",
       "    }\n",
       "\n",
       "    .dataframe tbody tr th {\n",
       "        vertical-align: top;\n",
       "    }\n",
       "\n",
       "    .dataframe thead th {\n",
       "        text-align: right;\n",
       "    }\n",
       "</style>\n",
       "<table border=\"1\" class=\"dataframe\">\n",
       "  <thead>\n",
       "    <tr style=\"text-align: right;\">\n",
       "      <th></th>\n",
       "      <th>interview_id,</th>\n",
       "      <th>word_idx</th>\n",
       "      <th>word</th>\n",
       "      <th>label</th>\n",
       "    </tr>\n",
       "  </thead>\n",
       "  <tbody>\n",
       "    <tr>\n",
       "      <th>0</th>\n",
       "      <td>MBY005779</td>\n",
       "      <td>0</td>\n",
       "      <td>LOUISA</td>\n",
       "      <td>B-LOC</td>\n",
       "    </tr>\n",
       "    <tr>\n",
       "      <th>1</th>\n",
       "      <td>MBY005779</td>\n",
       "      <td>1</td>\n",
       "      <td>SANCHEZ</td>\n",
       "      <td>I-LOC</td>\n",
       "    </tr>\n",
       "    <tr>\n",
       "      <th>2</th>\n",
       "      <td>MBY005779</td>\n",
       "      <td>9</td>\n",
       "      <td>Luisa</td>\n",
       "      <td>B-PER</td>\n",
       "    </tr>\n",
       "    <tr>\n",
       "      <th>3</th>\n",
       "      <td>MBY005779</td>\n",
       "      <td>10</td>\n",
       "      <td>Sanchez</td>\n",
       "      <td>I-PER</td>\n",
       "    </tr>\n",
       "    <tr>\n",
       "      <th>4</th>\n",
       "      <td>MBY005779</td>\n",
       "      <td>107</td>\n",
       "      <td>Colorado</td>\n",
       "      <td>B-LOC</td>\n",
       "    </tr>\n",
       "  </tbody>\n",
       "</table>\n",
       "</div>"
      ],
      "text/plain": [
       "  interview_id,  word_idx      word  label\n",
       "0     MBY005779         0    LOUISA  B-LOC\n",
       "1     MBY005779         1   SANCHEZ  I-LOC\n",
       "2     MBY005779         9     Luisa  B-PER\n",
       "3     MBY005779        10   Sanchez  I-PER\n",
       "4     MBY005779       107  Colorado  B-LOC"
      ]
     },
     "execution_count": 4,
     "metadata": {},
     "output_type": "execute_result"
    }
   ],
   "source": [
    "column_names = [\"interview_id,\", \"word_idx\", \"word\", \"label\"]\n",
    "df = pd.DataFrame(values, columns = column_names)\n",
    "df.head()"
   ]
  },
  {
   "cell_type": "code",
   "execution_count": 5,
   "metadata": {},
   "outputs": [],
   "source": [
    "df.to_csv('ner_output.csv')"
   ]
  },
  {
   "cell_type": "code",
   "execution_count": null,
   "metadata": {},
   "outputs": [],
   "source": []
  }
 ],
 "metadata": {
  "kernelspec": {
   "display_name": "Python (NER)",
   "language": "python",
   "name": "ner"
  },
  "language_info": {
   "codemirror_mode": {
    "name": "ipython",
    "version": 3
   },
   "file_extension": ".py",
   "mimetype": "text/x-python",
   "name": "python",
   "nbconvert_exporter": "python",
   "pygments_lexer": "ipython3",
   "version": "3.7.9"
  }
 },
 "nbformat": 4,
 "nbformat_minor": 4
}
